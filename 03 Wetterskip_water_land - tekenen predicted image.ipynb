{
 "cells": [
  {
   "cell_type": "markdown",
   "metadata": {},
   "source": [
    "# Wetterskip Fryslan\n",
    "### Tekenen predicted image\n"
   ]
  },
  {
   "cell_type": "markdown",
   "metadata": {},
   "source": [
    "## Bibliotheken laden"
   ]
  },
  {
   "cell_type": "code",
   "execution_count": 1,
   "metadata": {},
   "outputs": [],
   "source": [
    "import numpy as np\n",
    "import pickle\n",
    "from PIL import Image\n",
    "from sklearn.model_selection import train_test_split\n",
    "from sklearn.linear_model import LogisticRegression\n",
    "from sklearn.ensemble import RandomForestClassifier\n",
    "from sklearn.metrics import classification_report\n",
    "from sklearn.naive_bayes import GaussianNB"
   ]
  },
  {
   "cell_type": "markdown",
   "metadata": {},
   "source": [
    "## Laden water prediction Validatie image 1 (obv RandomForrest classification)"
   ]
  },
  {
   "cell_type": "code",
   "execution_count": 2,
   "metadata": {},
   "outputs": [],
   "source": [
    "filename = 'RandomForrestClassifier_Prediction_Validation1.sav'\n",
    "ClassArrayPred = pickle.load(open(filename, 'rb')).astype('uint8')\n",
    "# astype('uint8') is nodig om van de decimals integers te maken."
   ]
  },
  {
   "cell_type": "code",
   "execution_count": 3,
   "metadata": {},
   "outputs": [
    {
     "data": {
      "text/plain": [
       "array([[255, 255, 255, ..., 255, 255, 255],\n",
       "       [255, 255, 255, ..., 255, 255, 255],\n",
       "       [255, 255, 255, ..., 255, 255, 255],\n",
       "       ...,\n",
       "       [255, 255, 255, ..., 255, 255, 255],\n",
       "       [255, 255, 255, ..., 255, 255, 255],\n",
       "       [255, 255, 255, ..., 255, 255, 255]], dtype=uint8)"
      ]
     },
     "execution_count": 3,
     "metadata": {},
     "output_type": "execute_result"
    }
   ],
   "source": [
    "# open class bestand in ZWART-WIT (convert('l'))\n",
    "ClassImgVal1 = Image.open(\"validatie1-class.tif\").convert('L')\n",
    "# zet om naar array (matrix)\n",
    "ClassArrayVal1 = np.array(ClassImgVal1)\n",
    "ClassArrayVal1"
   ]
  },
  {
   "cell_type": "code",
   "execution_count": 4,
   "metadata": {},
   "outputs": [],
   "source": [
    "# grootte van het image\n",
    "ClassImageWidth = 1000\n",
    "ClassImageHeight= 1000\n",
    "\n",
    "# grootte van het sliding window\n",
    "WindowLength = 5\n",
    "WindowSize = WindowLength**2\n",
    "# variable ter bepaling van de hoeveelheid pixels naar rechts en naar beneden (de 'slide')\n",
    "Step = 1 \n",
    "# tijdelijke teller\n",
    "Counter = 0 \n",
    "\n",
    "ClassArrayResult = np.zeros(ClassImageWidth - WindowLength,dtype=np.uint8)\n",
    "\n",
    "# bepaal hoe groot de output vector wordt en creeer een lege array:\n",
    "#ClassArrayResult = np.zeros(shape=(((ClassImageWidth - WindowLength) * (ClassImageHeight - WindowLength))))\n",
    "\n",
    "# voor elke kolom\n",
    "for i in range(0,ClassImageHeight-WindowLength,Step):\n",
    "    # voor elke rij\n",
    "    rij=np.array([],dtype=np.uint8)\n",
    "    for j in range(0, ClassImageWidth-WindowLength,Step):\n",
    "        rij = np.concatenate((rij, [ClassArrayPred[Counter]]))\n",
    "        \n",
    "        Counter += 1\n",
    "    \n",
    "    ClassArrayResult = np.vstack((ClassArrayResult,[rij]))\n",
    "    "
   ]
  },
  {
   "cell_type": "code",
   "execution_count": 5,
   "metadata": {},
   "outputs": [
    {
     "data": {
      "text/plain": [
       "(996, 995)"
      ]
     },
     "execution_count": 5,
     "metadata": {},
     "output_type": "execute_result"
    }
   ],
   "source": [
    "ClassArrayResult.shape"
   ]
  },
  {
   "cell_type": "code",
   "execution_count": 6,
   "metadata": {},
   "outputs": [],
   "source": [
    "# vervang alle waarden van 0 door 255\n",
    "ClassArrayResult[ClassArrayResult == 0] = 255 # wit/geen water\n",
    "ClassArrayResult[ClassArrayResult < 255] = 0 # zwart/water\n"
   ]
  },
  {
   "cell_type": "code",
   "execution_count": 7,
   "metadata": {},
   "outputs": [],
   "source": [
    "img= Image.fromarray(ClassArrayResult,'L')"
   ]
  },
  {
   "cell_type": "code",
   "execution_count": 8,
   "metadata": {},
   "outputs": [],
   "source": [
    "img.show()"
   ]
  },
  {
   "cell_type": "code",
   "execution_count": 9,
   "metadata": {},
   "outputs": [
    {
     "data": {
      "image/png": "[encoded data removed]",
      "text/plain": [
       "<PIL.Image.Image image mode=L size=995x996 at 0x246A33CFC18>"
      ]
     },
     "execution_count": 9,
     "metadata": {},
     "output_type": "execute_result"
    }
   ],
   "source": [
    "Image.fromarray(ClassArrayResult,'L')"
   ]
  }
 ],
 "metadata": {
  "kernelspec": {
   "display_name": "Python 3",
   "language": "python",
   "name": "python3"
  },
  "language_info": {
   "codemirror_mode": {
    "name": "ipython",
    "version": 3
   },
   "file_extension": ".py",
   "mimetype": "text/x-python",
   "name": "python",
   "nbconvert_exporter": "python",
   "pygments_lexer": "ipython3",
   "version": "3.6.4"
  }
 },
 "nbformat": 4,
 "nbformat_minor": 2
}
