{
 "cells": [
  {
   "cell_type": "markdown",
   "metadata": {},
   "source": [
    "# Wetterskip Fryslan\n",
    "### Onderscheid water van niet-water obv RGB image en Class image\n",
    "\n",
    "#### Inlezen validatiefoto 1 met bijbehorende class afbeelding\n",
    "\n",
    "#### Inlezen pickle file van opgeslagen modellen:\n",
    "    - Naive Bayes\n",
    "    - Logistic Regression\n",
    "    - RandomForrest\n",
    "\n",
    "#### Bepalen uitkomst modellen op validatie foto's."
   ]
  },
  {
   "cell_type": "markdown",
   "metadata": {},
   "source": [
    "## Bibliotheken laden"
   ]
  },
  {
   "cell_type": "code",
   "execution_count": 1,
   "metadata": {},
   "outputs": [],
   "source": [
    "import numpy as np\n",
    "import pickle\n",
    "from PIL import Image\n",
    "from sklearn.model_selection import train_test_split\n",
    "from sklearn.linear_model import LogisticRegression\n",
    "from sklearn.ensemble import RandomForestClassifier\n",
    "from sklearn.metrics import classification_report\n",
    "from sklearn.naive_bayes import GaussianNB"
   ]
  },
  {
   "cell_type": "markdown",
   "metadata": {},
   "source": [
    "## Open Class van 1e validatie luchtfoto"
   ]
  },
  {
   "cell_type": "code",
   "execution_count": 2,
   "metadata": {},
   "outputs": [],
   "source": [
    "# open class bestand in ZWART-WIT (convert('l'))\n",
    "ClassImgVal1 = Image.open(\"validatie1-class.tif\").convert('L')\n",
    "# zet om naar array (matrix)\n",
    "ClassArrayVal1 = np.array(ClassImgVal1)\n",
    "# zet breedte en hoogte om in variabelen\n",
    "ClassImageWidth, ClassImageHeight = ClassArrayVal1.shape"
   ]
  },
  {
   "cell_type": "code",
   "execution_count": 3,
   "metadata": {},
   "outputs": [],
   "source": [
    "# vervang alle waarden van 255 (wit) door 1 en alle andere door 0 (zwart)\n",
    "ClassArrayVal1[ClassArrayVal1 < 255] = 1 # zwart/water\n",
    "ClassArrayVal1[ClassArrayVal1 == 255] = 0 # wit/geen water"
   ]
  },
  {
   "cell_type": "code",
   "execution_count": 4,
   "metadata": {},
   "outputs": [],
   "source": [
    "# grootte van het sliding window\n",
    "WindowLength = 5\n",
    "WindowSize = WindowLength**2\n",
    "# variable ter bepaling van de hoeveelheid pixels naar rechts en naar beneden (de 'slide')\n",
    "Step = 1 \n",
    "# tijdelijke teller\n",
    "Counter = 0 \n",
    "# drempel waarboven een window als water wordt geclassificeerd\n",
    "Threshold = .8 \n",
    "\n",
    "# bepaal hoe groot de output vector wordt en creeer een lege array:\n",
    "ClassArrayResultVal1 = np.zeros(shape=(((ClassImageWidth - WindowLength) * (ClassImageHeight - WindowLength))))\n",
    "\n",
    "# voor elke rij\n",
    "for i in range(0,ClassImageWidth-WindowLength,Step):\n",
    "    # voor elke kolom\n",
    "    for j in range(0, ClassImageHeight-WindowLength,Step):\n",
    "        # wanneer de som van de waarden in het window gelijk is aan het totale aantal pixels in het window dan\n",
    "        # zitten er dus alleen maar 1'en in --> dus water\n",
    "        if (ClassArrayVal1[i:i + WindowLength, j:j + WindowLength]==1).sum() == (WindowSize):\n",
    "            ClassArrayResultVal1[Counter] = 1\n",
    "        # wanneer de som van de waarden in het window gelijk is aan nul dan zitten er dus geen 1'en in --> dus geen water\n",
    "        elif (ClassArrayVal1[i:i + WindowLength, j:j + WindowLength]==1).sum() == 0:\n",
    "            ClassArrayResultVal1[Counter] = 0\n",
    "        # wanneer het aantal 1'en gedeeld door het aantal pixels groter is dan de toegestane drempel, dan alsnog \n",
    "        # classificeren als 'water'\n",
    "        elif ((ClassArrayVal1[i:i + WindowLength, j:j + WindowLength]==1).sum() / (WindowSize)) > Threshold:\n",
    "            ClassArrayResultVal1[Counter] = 1\n",
    "        # in de resterende gevallen is het onbekend\n",
    "        else:\n",
    "            ClassArrayResultVal1[Counter] = 0\n",
    "            \n",
    "        Counter += 1"
   ]
  },
  {
   "cell_type": "code",
   "execution_count": 5,
   "metadata": {},
   "outputs": [
    {
     "data": {
      "text/plain": [
       "(990025,)"
      ]
     },
     "execution_count": 5,
     "metadata": {},
     "output_type": "execute_result"
    }
   ],
   "source": [
    "ClassArrayResultVal1.shape"
   ]
  },
  {
   "cell_type": "markdown",
   "metadata": {},
   "source": [
    "## Openen Feature Validatiefoto 1 (RGB)"
   ]
  },
  {
   "cell_type": "code",
   "execution_count": 6,
   "metadata": {},
   "outputs": [],
   "source": [
    "# open feature foto (RGB).\n",
    "FeatureImgVal1 = Image.open(\"validatie1.png\").convert('RGB')\n",
    "# zet om naar array (matrix)\n",
    "FeatureArrayVal1 = np.array(FeatureImgVal1)\n",
    "# zet breedte, hoogte en diepte om in variabelen\n",
    "FeatureImageWidth, FeatureImageHeight, FeatureImageLayers = FeatureArrayVal1.shape"
   ]
  },
  {
   "cell_type": "code",
   "execution_count": 7,
   "metadata": {},
   "outputs": [],
   "source": [
    "# bepaal het formaat van de output matrix en creeer een lege array:\n",
    "FeatureArrayResultVal1 = np.zeros(shape=(((FeatureImageWidth - WindowLength) * (FeatureImageHeight - WindowLength)), (WindowSize)*FeatureImageLayers))\n",
    "\n",
    "# voor elke layer\n",
    "for z in range(0, FeatureImageLayers):\n",
    "    Counter = 0\n",
    "    # voor elke rij\n",
    "    for i in range(0, FeatureImageWidth-WindowLength, Step):\n",
    "        # voor elke kolom\n",
    "        for j in range(0, FeatureImageHeight-WindowLength, Step):\n",
    "            # zet de betreffende waarden per layer in feature matrix\n",
    "            FeatureArrayResultVal1[Counter, (z*(WindowSize)):(z*(WindowSize)+(WindowSize))] = (FeatureArrayVal1[i:i + WindowLength, j:j + WindowLength, z]).flatten()          \n",
    "            Counter += 1\n"
   ]
  },
  {
   "cell_type": "code",
   "execution_count": 8,
   "metadata": {},
   "outputs": [],
   "source": [
    "X_val1 = FeatureArrayResultVal1\n",
    "y_val1 = ClassArrayResultVal1"
   ]
  },
  {
   "cell_type": "markdown",
   "metadata": {},
   "source": [
    "## Naive Bayes (baseline)"
   ]
  },
  {
   "cell_type": "markdown",
   "metadata": {},
   "source": [
    "### Inlezen model met Naive Bayes"
   ]
  },
  {
   "cell_type": "code",
   "execution_count": 10,
   "metadata": {},
   "outputs": [],
   "source": [
    "# open het getrainde Naive Bayes model van schijf\n",
    "filename = 'GaussianNaiveBayes_model.sav'\n",
    "gnb_clf = pickle.load(open(filename, 'rb'))"
   ]
  },
  {
   "cell_type": "markdown",
   "metadata": {},
   "source": [
    "### Voorspel met Gaussian Naive Bayes"
   ]
  },
  {
   "cell_type": "code",
   "execution_count": 11,
   "metadata": {},
   "outputs": [
    {
     "name": "stdout",
     "output_type": "stream",
     "text": [
      "             precision    recall  f1-score   support\n",
      "\n",
      "        0.0       0.92      0.70      0.79    584259\n",
      "        1.0       0.68      0.91      0.78    405766\n",
      "\n",
      "avg / total       0.82      0.78      0.79    990025\n",
      "\n"
     ]
    }
   ],
   "source": [
    "# bekijk resultaten\n",
    "gnb_predictions = gnb_clf.predict(X_val1)\n",
    "print(classification_report(y_val1, gnb_predictions))"
   ]
  },
  {
   "cell_type": "markdown",
   "metadata": {},
   "source": [
    "## Logistic Regression"
   ]
  },
  {
   "cell_type": "markdown",
   "metadata": {},
   "source": [
    "### Inlezen Logistic Regression model"
   ]
  },
  {
   "cell_type": "code",
   "execution_count": 12,
   "metadata": {},
   "outputs": [],
   "source": [
    "# open het getrainde LogisticRegression model van schijf\n",
    "filename = 'Logistic_Regression_model.sav'\n",
    "classifier = pickle.load(open(filename, 'rb'))"
   ]
  },
  {
   "cell_type": "markdown",
   "metadata": {},
   "source": [
    "### Voorspelling Logistic Regression model"
   ]
  },
  {
   "cell_type": "code",
   "execution_count": 13,
   "metadata": {},
   "outputs": [
    {
     "name": "stdout",
     "output_type": "stream",
     "text": [
      "             precision    recall  f1-score   support\n",
      "\n",
      "        0.0       0.99      0.96      0.97    584259\n",
      "        1.0       0.94      0.98      0.96    405766\n",
      "\n",
      "avg / total       0.97      0.97      0.97    990025\n",
      "\n"
     ]
    }
   ],
   "source": [
    "# bekijk resultaten\n",
    "predictions = classifier.predict(X_val1)\n",
    "print(classification_report(y_val1, predictions))"
   ]
  },
  {
   "cell_type": "markdown",
   "metadata": {},
   "source": [
    "## Random Forrest"
   ]
  },
  {
   "cell_type": "markdown",
   "metadata": {},
   "source": [
    "### Inlezen Random Forrest model"
   ]
  },
  {
   "cell_type": "code",
   "execution_count": 14,
   "metadata": {},
   "outputs": [],
   "source": [
    "filename = 'RandomForrestClassifier_model.sav'\n",
    "rf_clf = pickle.load(open(filename, 'rb'))"
   ]
  },
  {
   "cell_type": "markdown",
   "metadata": {},
   "source": [
    "### Voorspel uitkomt op basis van Random Forrest"
   ]
  },
  {
   "cell_type": "code",
   "execution_count": 15,
   "metadata": {},
   "outputs": [
    {
     "name": "stdout",
     "output_type": "stream",
     "text": [
      "             precision    recall  f1-score   support\n",
      "\n",
      "        0.0       0.96      0.98      0.97    584259\n",
      "        1.0       0.98      0.95      0.96    405766\n",
      "\n",
      "avg / total       0.97      0.97      0.97    990025\n",
      "\n"
     ]
    }
   ],
   "source": [
    "rf_pred = rf_clf.predict(X_val1)\n",
    "print(classification_report(y_val1, rf_pred))"
   ]
  },
  {
   "cell_type": "markdown",
   "metadata": {},
   "source": [
    "### Opslaan prediction met Pickle"
   ]
  },
  {
   "cell_type": "code",
   "execution_count": 16,
   "metadata": {},
   "outputs": [],
   "source": [
    "filename = 'RandomForrestClassifier_Prediction_Validation1.sav'\n",
    "pickle.dump(rf_pred, open(filename, 'wb'))"
   ]
  }
 ],
 "metadata": {
  "kernelspec": {
   "display_name": "Python 3",
   "language": "python",
   "name": "python3"
  },
  "language_info": {
   "codemirror_mode": {
    "name": "ipython",
    "version": 3
   },
   "file_extension": ".py",
   "mimetype": "text/x-python",
   "name": "python",
   "nbconvert_exporter": "python",
   "pygments_lexer": "ipython3",
   "version": "3.6.4"
  }
 },
 "nbformat": 4,
 "nbformat_minor": 2
}
